{
 "cells": [
  {
   "cell_type": "code",
   "execution_count": null,
   "metadata": {},
   "outputs": [],
   "source": [
    "import pandas as pd\n",
    "\n",
    "# Read the Excel/CSV file into a pandas DataFrame\n",
    "data = pd.read_csv('path/to/your/file.csv')\n",
    "\n",
    "# Calculate the mode\n",
    "mode = data.mode().iloc[0]\n",
    "\n",
    "# Calculate the median\n",
    "median = data.median()\n",
    "\n",
    "# Calculate the average (mean)\n",
    "average = data.mean()\n",
    "\n",
    "# Calculate the range\n",
    "range = data.max() - data.min()\n",
    "\n",
    "# Print the results\n",
    "print(\"Mode:\")\n",
    "print(mode)\n",
    "print(\"\\nMedian:\")\n",
    "print(median)\n",
    "print(\"\\nAverage:\")\n",
    "print(average)\n",
    "print(\"\\nRange:\")\n",
    "print(range)\n"
   ]
  }
 ],
 "metadata": {
  "language_info": {
   "name": "python"
  }
 },
 "nbformat": 4,
 "nbformat_minor": 2
}
